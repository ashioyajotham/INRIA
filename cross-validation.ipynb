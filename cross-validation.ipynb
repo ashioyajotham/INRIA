{
 "cells": [
  {
   "cell_type": "code",
   "execution_count": 1,
   "id": "6de161b7",
   "metadata": {
    "_cell_guid": "b1076dfc-b9ad-4769-8c92-a6c4dae69d19",
    "_uuid": "8f2839f25d086af736a60e9eeb907d3b93b6e0e5",
    "execution": {
     "iopub.execute_input": "2022-03-30T13:37:43.291174Z",
     "iopub.status.busy": "2022-03-30T13:37:43.289584Z",
     "iopub.status.idle": "2022-03-30T13:37:43.308946Z",
     "shell.execute_reply": "2022-03-30T13:37:43.309502Z",
     "shell.execute_reply.started": "2022-03-30T12:48:38.072011Z"
    },
    "papermill": {
     "duration": 0.035458,
     "end_time": "2022-03-30T13:37:43.309762",
     "exception": false,
     "start_time": "2022-03-30T13:37:43.274304",
     "status": "completed"
    },
    "tags": []
   },
   "outputs": [
    {
     "name": "stdout",
     "output_type": "stream",
     "text": [
      "/kaggle/input/adultcensus/adult-census.csv\n",
      "/kaggle/input/adultcensus/adult-census-numeric-test.csv\n"
     ]
    }
   ],
   "source": [
    "# This Python 3 environment comes with many helpful analytics libraries installed\n",
    "# It is defined by the kaggle/python Docker image: https://github.com/kaggle/docker-python\n",
    "# For example, here's several helpful packages to load\n",
    "\n",
    "import numpy as np # linear algebra\n",
    "import pandas as pd # data processing, CSV file I/O (e.g. pd.read_csv)\n",
    "\n",
    "# Input data files are available in the read-only \"../input/\" directory\n",
    "# For example, running this (by clicking run or pressing Shift+Enter) will list all files under the input directory\n",
    "\n",
    "import os\n",
    "for dirname, _, filenames in os.walk('/kaggle/input'):\n",
    "    for filename in filenames:\n",
    "        print(os.path.join(dirname, filename))\n",
    "\n",
    "# You can write up to 20GB to the current directory (/kaggle/working/) that gets preserved as output when you create a version using \"Save & Run All\" \n",
    "# You can also write temporary files to /kaggle/temp/, but they won't be saved outside of the current session"
   ]
  },
  {
   "cell_type": "code",
   "execution_count": 2,
   "id": "1ccd41f2",
   "metadata": {
    "execution": {
     "iopub.execute_input": "2022-03-30T13:37:43.336720Z",
     "iopub.status.busy": "2022-03-30T13:37:43.336227Z",
     "iopub.status.idle": "2022-03-30T13:37:43.518827Z",
     "shell.execute_reply": "2022-03-30T13:37:43.519350Z",
     "shell.execute_reply.started": "2022-03-30T12:48:38.098520Z"
    },
    "papermill": {
     "duration": 0.197089,
     "end_time": "2022-03-30T13:37:43.519509",
     "exception": false,
     "start_time": "2022-03-30T13:37:43.322420",
     "status": "completed"
    },
    "tags": []
   },
   "outputs": [
    {
     "data": {
      "text/html": [
       "<div>\n",
       "<style scoped>\n",
       "    .dataframe tbody tr th:only-of-type {\n",
       "        vertical-align: middle;\n",
       "    }\n",
       "\n",
       "    .dataframe tbody tr th {\n",
       "        vertical-align: top;\n",
       "    }\n",
       "\n",
       "    .dataframe thead th {\n",
       "        text-align: right;\n",
       "    }\n",
       "</style>\n",
       "<table border=\"1\" class=\"dataframe\">\n",
       "  <thead>\n",
       "    <tr style=\"text-align: right;\">\n",
       "      <th></th>\n",
       "      <th>age</th>\n",
       "      <th>workclass</th>\n",
       "      <th>education</th>\n",
       "      <th>education-num</th>\n",
       "      <th>marital-status</th>\n",
       "      <th>occupation</th>\n",
       "      <th>relationship</th>\n",
       "      <th>race</th>\n",
       "      <th>sex</th>\n",
       "      <th>capital-gain</th>\n",
       "      <th>capital-loss</th>\n",
       "      <th>hours-per-week</th>\n",
       "      <th>native-country</th>\n",
       "      <th>class</th>\n",
       "    </tr>\n",
       "  </thead>\n",
       "  <tbody>\n",
       "    <tr>\n",
       "      <th>0</th>\n",
       "      <td>25</td>\n",
       "      <td>Private</td>\n",
       "      <td>11th</td>\n",
       "      <td>7</td>\n",
       "      <td>Never-married</td>\n",
       "      <td>Machine-op-inspct</td>\n",
       "      <td>Own-child</td>\n",
       "      <td>Black</td>\n",
       "      <td>Male</td>\n",
       "      <td>0</td>\n",
       "      <td>0</td>\n",
       "      <td>40</td>\n",
       "      <td>United-States</td>\n",
       "      <td>&lt;=50K</td>\n",
       "    </tr>\n",
       "    <tr>\n",
       "      <th>1</th>\n",
       "      <td>38</td>\n",
       "      <td>Private</td>\n",
       "      <td>HS-grad</td>\n",
       "      <td>9</td>\n",
       "      <td>Married-civ-spouse</td>\n",
       "      <td>Farming-fishing</td>\n",
       "      <td>Husband</td>\n",
       "      <td>White</td>\n",
       "      <td>Male</td>\n",
       "      <td>0</td>\n",
       "      <td>0</td>\n",
       "      <td>50</td>\n",
       "      <td>United-States</td>\n",
       "      <td>&lt;=50K</td>\n",
       "    </tr>\n",
       "    <tr>\n",
       "      <th>2</th>\n",
       "      <td>28</td>\n",
       "      <td>Local-gov</td>\n",
       "      <td>Assoc-acdm</td>\n",
       "      <td>12</td>\n",
       "      <td>Married-civ-spouse</td>\n",
       "      <td>Protective-serv</td>\n",
       "      <td>Husband</td>\n",
       "      <td>White</td>\n",
       "      <td>Male</td>\n",
       "      <td>0</td>\n",
       "      <td>0</td>\n",
       "      <td>40</td>\n",
       "      <td>United-States</td>\n",
       "      <td>&gt;50K</td>\n",
       "    </tr>\n",
       "    <tr>\n",
       "      <th>3</th>\n",
       "      <td>44</td>\n",
       "      <td>Private</td>\n",
       "      <td>Some-college</td>\n",
       "      <td>10</td>\n",
       "      <td>Married-civ-spouse</td>\n",
       "      <td>Machine-op-inspct</td>\n",
       "      <td>Husband</td>\n",
       "      <td>Black</td>\n",
       "      <td>Male</td>\n",
       "      <td>7688</td>\n",
       "      <td>0</td>\n",
       "      <td>40</td>\n",
       "      <td>United-States</td>\n",
       "      <td>&gt;50K</td>\n",
       "    </tr>\n",
       "    <tr>\n",
       "      <th>4</th>\n",
       "      <td>18</td>\n",
       "      <td>?</td>\n",
       "      <td>Some-college</td>\n",
       "      <td>10</td>\n",
       "      <td>Never-married</td>\n",
       "      <td>?</td>\n",
       "      <td>Own-child</td>\n",
       "      <td>White</td>\n",
       "      <td>Female</td>\n",
       "      <td>0</td>\n",
       "      <td>0</td>\n",
       "      <td>30</td>\n",
       "      <td>United-States</td>\n",
       "      <td>&lt;=50K</td>\n",
       "    </tr>\n",
       "  </tbody>\n",
       "</table>\n",
       "</div>"
      ],
      "text/plain": [
       "   age   workclass      education  education-num       marital-status  \\\n",
       "0   25     Private           11th              7        Never-married   \n",
       "1   38     Private        HS-grad              9   Married-civ-spouse   \n",
       "2   28   Local-gov     Assoc-acdm             12   Married-civ-spouse   \n",
       "3   44     Private   Some-college             10   Married-civ-spouse   \n",
       "4   18           ?   Some-college             10        Never-married   \n",
       "\n",
       "           occupation relationship    race      sex  capital-gain  \\\n",
       "0   Machine-op-inspct    Own-child   Black     Male             0   \n",
       "1     Farming-fishing      Husband   White     Male             0   \n",
       "2     Protective-serv      Husband   White     Male             0   \n",
       "3   Machine-op-inspct      Husband   Black     Male          7688   \n",
       "4                   ?    Own-child   White   Female             0   \n",
       "\n",
       "   capital-loss  hours-per-week  native-country   class  \n",
       "0             0              40   United-States   <=50K  \n",
       "1             0              50   United-States   <=50K  \n",
       "2             0              40   United-States    >50K  \n",
       "3             0              40   United-States    >50K  \n",
       "4             0              30   United-States   <=50K  "
      ]
     },
     "execution_count": 2,
     "metadata": {},
     "output_type": "execute_result"
    }
   ],
   "source": [
    "import pandas as pd\n",
    "df = pd.read_csv(\"../input/adultcensus/adult-census.csv\")\n",
    "df.head()"
   ]
  },
  {
   "cell_type": "code",
   "execution_count": 3,
   "id": "1dee74f3",
   "metadata": {
    "execution": {
     "iopub.execute_input": "2022-03-30T13:37:43.569885Z",
     "iopub.status.busy": "2022-03-30T13:37:43.569055Z",
     "iopub.status.idle": "2022-03-30T13:37:43.578325Z",
     "shell.execute_reply": "2022-03-30T13:37:43.577693Z",
     "shell.execute_reply.started": "2022-03-30T12:48:38.203322Z"
    },
    "papermill": {
     "duration": 0.037913,
     "end_time": "2022-03-30T13:37:43.578478",
     "exception": false,
     "start_time": "2022-03-30T13:37:43.540565",
     "status": "completed"
    },
    "tags": []
   },
   "outputs": [],
   "source": [
    "# Separate Label and Features\n",
    "target = \"class\"\n",
    "label = df[target]\n",
    "features = df.drop(columns = target)"
   ]
  },
  {
   "cell_type": "code",
   "execution_count": 4,
   "id": "a003744c",
   "metadata": {
    "execution": {
     "iopub.execute_input": "2022-03-30T13:37:43.606282Z",
     "iopub.status.busy": "2022-03-30T13:37:43.605539Z",
     "iopub.status.idle": "2022-03-30T13:37:43.607848Z",
     "shell.execute_reply": "2022-03-30T13:37:43.607456Z",
     "shell.execute_reply.started": "2022-03-30T12:48:38.213521Z"
    },
    "papermill": {
     "duration": 0.01815,
     "end_time": "2022-03-30T13:37:43.607956",
     "exception": false,
     "start_time": "2022-03-30T13:37:43.589806",
     "status": "completed"
    },
    "tags": []
   },
   "outputs": [],
   "source": [
    "num_columns = [\"age\", \"capital-gain\", \"capital-loss\", \"hours-per-week\"]\n",
    "numeric_data = df[num_columns]"
   ]
  },
  {
   "cell_type": "code",
   "execution_count": 5,
   "id": "52099942",
   "metadata": {
    "execution": {
     "iopub.execute_input": "2022-03-30T13:37:43.631738Z",
     "iopub.status.busy": "2022-03-30T13:37:43.630937Z",
     "iopub.status.idle": "2022-03-30T13:37:44.560395Z",
     "shell.execute_reply": "2022-03-30T13:37:44.559816Z",
     "shell.execute_reply.started": "2022-03-30T12:49:05.304789Z"
    },
    "papermill": {
     "duration": 0.942084,
     "end_time": "2022-03-30T13:37:44.560525",
     "exception": false,
     "start_time": "2022-03-30T13:37:43.618441",
     "status": "completed"
    },
    "tags": []
   },
   "outputs": [],
   "source": [
    "from sklearn.preprocessing import StandardScaler\n",
    "from sklearn.linear_model import LogisticRegression\n",
    "from sklearn.pipeline import make_pipeline\n",
    "\n",
    "model = make_pipeline(StandardScaler(), LogisticRegression())"
   ]
  },
  {
   "cell_type": "code",
   "execution_count": 6,
   "id": "00276cd5",
   "metadata": {
    "execution": {
     "iopub.execute_input": "2022-03-30T13:37:44.627674Z",
     "iopub.status.busy": "2022-03-30T13:37:44.587011Z",
     "iopub.status.idle": "2022-03-30T13:37:46.002364Z",
     "shell.execute_reply": "2022-03-30T13:37:46.002916Z",
     "shell.execute_reply.started": "2022-03-30T12:59:20.315042Z"
    },
    "papermill": {
     "duration": 1.431564,
     "end_time": "2022-03-30T13:37:46.003145",
     "exception": false,
     "start_time": "2022-03-30T13:37:44.571581",
     "status": "completed"
    },
    "tags": []
   },
   "outputs": [
    {
     "name": "stdout",
     "output_type": "stream",
     "text": [
      "CPU times: user 1.52 s, sys: 486 ms, total: 2.01 s\n",
      "Wall time: 1.4 s\n"
     ]
    },
    {
     "data": {
      "text/plain": [
       "{'fit_time': array([0.14496398, 0.17291784, 0.17470503, 0.20715332, 0.26205468]),\n",
       " 'score_time': array([0.05097938, 0.05117798, 0.05386066, 0.07136893, 0.09395146]),\n",
       " 'test_score': array([0.79557785, 0.80049135, 0.79965192, 0.79873055, 0.80436118])}"
      ]
     },
     "execution_count": 6,
     "metadata": {},
     "output_type": "execute_result"
    }
   ],
   "source": [
    "%%time\n",
    "from sklearn.model_selection import cross_validate\n",
    "cv_result = cross_validate(model, numeric_data, label, cv =5)\n",
    "cv_result"
   ]
  },
  {
   "cell_type": "code",
   "execution_count": 7,
   "id": "fa5804db",
   "metadata": {
    "execution": {
     "iopub.execute_input": "2022-03-30T13:37:46.052458Z",
     "iopub.status.busy": "2022-03-30T13:37:46.051687Z",
     "iopub.status.idle": "2022-03-30T13:37:46.055907Z",
     "shell.execute_reply": "2022-03-30T13:37:46.056531Z",
     "shell.execute_reply.started": "2022-03-30T13:01:52.165224Z"
    },
    "papermill": {
     "duration": 0.028904,
     "end_time": "2022-03-30T13:37:46.056709",
     "exception": false,
     "start_time": "2022-03-30T13:37:46.027805",
     "status": "completed"
    },
    "tags": []
   },
   "outputs": [
    {
     "name": "stdout",
     "output_type": "stream",
     "text": [
      "The mean cross-validation accuracy is: 0.800 +/- 0.003\n"
     ]
    }
   ],
   "source": [
    "scores = cv_result[\"test_score\"]\n",
    "print(\n",
    "    \"The mean cross-validation accuracy is: \"\n",
    "    f\"{scores.mean():.3f} +/- {scores.std():.3f}\"\n",
    ")"
   ]
  },
  {
   "cell_type": "markdown",
   "id": "c15f73f2",
   "metadata": {
    "papermill": {
     "duration": 0.018216,
     "end_time": "2022-03-30T13:37:46.093225",
     "exception": false,
     "start_time": "2022-03-30T13:37:46.075009",
     "status": "completed"
    },
    "tags": []
   },
   "source": [
    "When calling `cross-validate`(estimator, X, y, cv = 5) the following happpens:\n",
    "    \n",
    "* `X` and `y` are split five times with none overlapping test sets\n",
    "* `estmator.fit` is called five times each time on a different training set\n",
    "* a Python dictionary is returned containing a key/value containing a NumPy array \n",
    "     with 5 scores computed on the test sets "
   ]
  },
  {
   "cell_type": "markdown",
   "id": "ab5bcfb4",
   "metadata": {
    "papermill": {
     "duration": 0.018277,
     "end_time": "2022-03-30T13:37:46.129724",
     "exception": false,
     "start_time": "2022-03-30T13:37:46.111447",
     "status": "completed"
    },
    "tags": []
   },
   "source": [
    "The generalization performance of a scikit-learn model can be evaluated by:\n",
    "\n",
    "* calling `fit` to train the model on the training set, predict on the test set to get the predictions, \n",
    "  and compute the score by passing the predictions and the true target values to some metric function\n",
    "* calling `fit` to train the model on the training set and score to compute the score on the test set\n",
    "* calling `cross_validate` by passing the model, the data and the target"
   ]
  },
  {
   "cell_type": "markdown",
   "id": "1239b8bd",
   "metadata": {
    "papermill": {
     "duration": 0.01693,
     "end_time": "2022-03-30T13:37:46.164278",
     "exception": false,
     "start_time": "2022-03-30T13:37:46.147348",
     "status": "completed"
    },
    "tags": []
   },
   "source": [
    "`StandardScaler` transformer with the default parameter will:\n",
    "* transform the features so that they have similar ranges \n",
    "* transforms feature values that were originally positive-only \n",
    "  into values that can be negative or positive \n",
    "* can help logistic regression converge faster (fewer iterations) "
   ]
  },
  {
   "cell_type": "markdown",
   "id": "c8b80d50",
   "metadata": {
    "papermill": {
     "duration": 0.011279,
     "end_time": "2022-03-30T13:37:46.190638",
     "exception": false,
     "start_time": "2022-03-30T13:37:46.179359",
     "status": "completed"
    },
    "tags": []
   },
   "source": [
    "Cross-validation allows us to:\n",
    "* measure the generalization performance\n",
    "* estimate the variability of the generalization score"
   ]
  },
  {
   "cell_type": "markdown",
   "id": "1ae14c15",
   "metadata": {
    "papermill": {
     "duration": 0.011254,
     "end_time": "2022-03-30T13:37:46.213419",
     "exception": false,
     "start_time": "2022-03-30T13:37:46.202165",
     "status": "completed"
    },
    "tags": []
   },
   "source": [
    "`make_pipeline` (as well as `Pipeline`) is used to:\n",
    "* combine one or more transformers and a predictor"
   ]
  },
  {
   "cell_type": "markdown",
   "id": "92f1274b",
   "metadata": {
    "papermill": {
     "duration": 0.011441,
     "end_time": "2022-03-30T13:37:46.236250",
     "exception": false,
     "start_time": "2022-03-30T13:37:46.224809",
     "status": "completed"
    },
    "tags": []
   },
   "source": []
  }
 ],
 "metadata": {
  "kernelspec": {
   "display_name": "Python 3",
   "language": "python",
   "name": "python3"
  },
  "language_info": {
   "codemirror_mode": {
    "name": "ipython",
    "version": 3
   },
   "file_extension": ".py",
   "mimetype": "text/x-python",
   "name": "python",
   "nbconvert_exporter": "python",
   "pygments_lexer": "ipython3",
   "version": "3.7.12"
  },
  "papermill": {
   "default_parameters": {},
   "duration": 11.211261,
   "end_time": "2022-03-30T13:37:46.756564",
   "environment_variables": {},
   "exception": null,
   "input_path": "__notebook__.ipynb",
   "output_path": "__notebook__.ipynb",
   "parameters": {},
   "start_time": "2022-03-30T13:37:35.545303",
   "version": "2.3.3"
  }
 },
 "nbformat": 4,
 "nbformat_minor": 5
}
